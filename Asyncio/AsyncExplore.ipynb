{
 "cells": [
  {
   "cell_type": "code",
   "execution_count": 8,
   "metadata": {},
   "outputs": [],
   "source": [
    "import asyncio\n",
    "import nest_asyncio\n",
    "nest_asyncio.apply()\n",
    "import time"
   ]
  },
  {
   "cell_type": "code",
   "execution_count": 9,
   "metadata": {},
   "outputs": [
    {
     "name": "stdout",
     "output_type": "stream",
     "text": [
      "Daley_3\n",
      "Daley_5\n",
      "Time: 5.002578973770142\n"
     ]
    }
   ],
   "source": [
    "async def delay_5():\n",
    "    await asyncio.sleep(5)\n",
    "    print(\"Daley_5\")\n",
    "\n",
    "async def delay_3():\n",
    "    await asyncio.sleep(3)\n",
    "    print(\"Daley_3\")\n",
    "    \n",
    "async def test_delay():\n",
    "    start = time.time()\n",
    "    task_5 = asyncio.create_task(delay_5())\n",
    "    await asyncio.sleep(1)\n",
    "    task_3 = asyncio.create_task(delay_3())\n",
    "    \n",
    "    await task_5\n",
    "    await task_3\n",
    "    print(\"Time:\", time.time() - start)\n",
    "\n",
    "asyncio.run(test_delay())"
   ]
  },
  {
   "cell_type": "code",
   "execution_count": 10,
   "metadata": {},
   "outputs": [
    {
     "name": "stdout",
     "output_type": "stream",
     "text": [
      "Daley_3\n",
      "Daley_5\n",
      "Result: 5\n",
      "Result: 3\n",
      "Time: 5.001850128173828\n"
     ]
    }
   ],
   "source": [
    "async def delay_5():\n",
    "    await asyncio.sleep(5)\n",
    "    print(\"Daley_5\")\n",
    "    return 5\n",
    "\n",
    "async def delay_3():\n",
    "    await asyncio.sleep(3)\n",
    "    print(\"Daley_3\")\n",
    "    return 3\n",
    "    \n",
    "async def test_delay():\n",
    "    start = time.time()\n",
    "    task_5 = asyncio.create_task(delay_5())\n",
    "    await asyncio.sleep(1)\n",
    "    task_3 = asyncio.create_task(delay_3())\n",
    "    \n",
    "    result = await task_5\n",
    "    print(\"Result:\", result)\n",
    "    result = await task_3\n",
    "    print(\"Result:\", result)\n",
    "    \n",
    "    print(\"Time:\", time.time() - start)\n",
    "\n",
    "asyncio.run(test_delay())"
   ]
  },
  {
   "cell_type": "code",
   "execution_count": 11,
   "metadata": {},
   "outputs": [
    {
     "name": "stdout",
     "output_type": "stream",
     "text": [
      "Slept for 0 seconds\n",
      "Slept for 1 seconds\n",
      "Slept for 2 seconds\n",
      "Slept for 4 seconds\n",
      "Slept for 5 seconds\n",
      "Result: [5, 1, 4, 2, 0]\n",
      "Time: 5.002264022827148\n"
     ]
    }
   ],
   "source": [
    "import random\n",
    "async def random_sleep():\n",
    "    delay = random.randint(0, 5)\n",
    "    await asyncio.sleep(delay)\n",
    "    print(f\"Slept for {delay} seconds\")\n",
    "    return delay\n",
    "    \n",
    "    \n",
    "async def test_delay():\n",
    "    start = time.time()\n",
    "    tasks = [asyncio.create_task(random_sleep()) for _ in range(5)]\n",
    "    result = await asyncio.gather(*tasks)\n",
    "    print(\"Result:\", result)    \n",
    "    print(\"Time:\", time.time() - start)\n",
    "\n",
    "asyncio.run(test_delay())"
   ]
  },
  {
   "cell_type": "code",
   "execution_count": 15,
   "metadata": {},
   "outputs": [
    {
     "name": "stdout",
     "output_type": "stream",
     "text": [
      "Slept for 2 seconds\n",
      "Slept for 4 seconds\n",
      "Slept for 6 seconds\n",
      "Slept for 6 seconds\n",
      "Slept for 8 seconds\n",
      "Result: [8, 6, 4, 2, 6]\n",
      "Time: 8.002776861190796\n"
     ]
    }
   ],
   "source": [
    "async def random_sleep(delay):\n",
    "    await asyncio.sleep(delay)    \n",
    "    print(f\"Slept for {delay} seconds\")\n",
    "    return delay\n",
    "    \n",
    "async def test_delay():\n",
    "    start = time.time()\n",
    "    tasks = [asyncio.create_task(random_sleep(random.randint(2,8))) for _ in range(5)]\n",
    "    result = await asyncio.gather(*tasks)\n",
    "    print(\"Result:\", result)    \n",
    "    print(\"Time:\", time.time() - start)\n",
    "\n",
    "asyncio.run(test_delay())"
   ]
  },
  {
   "cell_type": "code",
   "execution_count": 19,
   "metadata": {},
   "outputs": [
    {
     "name": "stdout",
     "output_type": "stream",
     "text": [
      "Slept for 6 seconds\n",
      "Slept for 3 seconds\n",
      "Slept for 7 seconds\n",
      "Slept for 2 seconds\n",
      "Slept for 4 seconds\n",
      "Result: [6, 3, 7, 2, 4]\n",
      "Time: 22.024155139923096\n"
     ]
    }
   ],
   "source": [
    "async def blocking_sleep(delay):\n",
    "    time.sleep(delay)\n",
    "    print(f\"Slept for {delay} seconds\")\n",
    "    return delay\n",
    "    \n",
    "async def test_delay():\n",
    "    start = time.time()\n",
    "    tasks = [asyncio.create_task(blocking_sleep(random.randint(2,8))) for _ in range(5)]\n",
    "    result = await asyncio.gather(*tasks)\n",
    "    print(\"Result:\", result)    \n",
    "    print(\"Time:\", time.time() - start)\n",
    "\n",
    "asyncio.run(test_delay())"
   ]
  },
  {
   "cell_type": "code",
   "execution_count": 17,
   "metadata": {},
   "outputs": [
    {
     "name": "stdout",
     "output_type": "stream",
     "text": [
      "Slept for 3 seconds\n",
      "Slept for 5 seconds\n",
      "Slept for 6 seconds\n",
      "Slept for 7 seconds\n",
      "Slept for 7 seconds\n",
      "Result: [3, 7, 5, 6, 7]\n",
      "Time: 7.009192943572998\n"
     ]
    }
   ],
   "source": [
    "def blocking_sleep(delay):\n",
    "    time.sleep(delay)\n",
    "    print(f\"Slept for {delay} seconds\")\n",
    "    return delay\n",
    "\n",
    "async def non_blocking_sleep(delay):\n",
    "    return await asyncio.to_thread(blocking_sleep, delay)\n",
    "    \n",
    "async def test_delay():\n",
    "    start = time.time()\n",
    "    tasks = [asyncio.create_task(non_blocking_sleep(random.randint(2,8))) for _ in range(5)]\n",
    "    result = await asyncio.gather(*tasks)\n",
    "    print(\"Result:\", result)    \n",
    "    print(\"Time:\", time.time() - start)\n",
    "\n",
    "asyncio.run(test_delay())"
   ]
  }
 ],
 "metadata": {
  "kernelspec": {
   "display_name": "PyTorch",
   "language": "python",
   "name": "pytorch"
  },
  "language_info": {
   "codemirror_mode": {
    "name": "ipython",
    "version": 3
   },
   "file_extension": ".py",
   "mimetype": "text/x-python",
   "name": "python",
   "nbconvert_exporter": "python",
   "pygments_lexer": "ipython3",
   "version": "3.12.1"
  }
 },
 "nbformat": 4,
 "nbformat_minor": 2
}
